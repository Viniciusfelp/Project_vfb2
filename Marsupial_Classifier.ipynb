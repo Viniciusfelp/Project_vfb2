{
  "nbformat": 4,
  "nbformat_minor": 0,
  "metadata": {
    "colab": {
      "name": "Marsupial_Classifier.ipynb",
      "provenance": [],
      "authorship_tag": "ABX9TyMOPDSR7KS5z1iAGgcYrUmW",
      "include_colab_link": true
    },
    "kernelspec": {
      "name": "python3",
      "display_name": "Python 3"
    },
    "language_info": {
      "name": "python"
    },
    "widgets": {
      "application/vnd.jupyter.widget-state+json": {
        "c75b2347f46f4126be1a259583c514ab": {
          "model_module": "@jupyter-widgets/controls",
          "model_name": "FileUploadModel",
          "state": {
            "_view_name": "FileUploadView",
            "_counter": 1,
            "style": "IPY_MODEL_38d90b0915024a8aa6ef3aefaa9a450d",
            "_dom_classes": [],
            "description": "Upload",
            "multiple": false,
            "_model_name": "FileUploadModel",
            "data": [
              null
            ],
            "button_style": "",
            "_view_module": "@jupyter-widgets/controls",
            "_model_module_version": "1.5.0",
            "accept": "",
            "_view_count": null,
            "disabled": false,
            "_view_module_version": "1.5.0",
            "error": "",
            "description_tooltip": null,
            "metadata": [
              {
                "name": "cat.png",
                "type": "image/png",
                "size": 51057,
                "lastModified": 1611942466071
              }
            ],
            "_model_module": "@jupyter-widgets/controls",
            "layout": "IPY_MODEL_c4fe0406480741608dfbabccc49c8308",
            "icon": "upload"
          }
        },
        "38d90b0915024a8aa6ef3aefaa9a450d": {
          "model_module": "@jupyter-widgets/controls",
          "model_name": "ButtonStyleModel",
          "state": {
            "_view_name": "StyleView",
            "_model_name": "ButtonStyleModel",
            "_view_module": "@jupyter-widgets/base",
            "_model_module_version": "1.5.0",
            "_view_count": null,
            "button_color": null,
            "font_weight": "",
            "_view_module_version": "1.2.0",
            "_model_module": "@jupyter-widgets/controls"
          }
        },
        "c4fe0406480741608dfbabccc49c8308": {
          "model_module": "@jupyter-widgets/base",
          "model_name": "LayoutModel",
          "state": {
            "_view_name": "LayoutView",
            "grid_template_rows": null,
            "right": null,
            "justify_content": null,
            "_view_module": "@jupyter-widgets/base",
            "overflow": null,
            "_model_module_version": "1.2.0",
            "_view_count": null,
            "flex_flow": null,
            "width": null,
            "min_width": null,
            "border": null,
            "align_items": null,
            "bottom": null,
            "_model_module": "@jupyter-widgets/base",
            "top": null,
            "grid_column": null,
            "overflow_y": null,
            "overflow_x": null,
            "grid_auto_flow": null,
            "grid_area": null,
            "grid_template_columns": null,
            "flex": null,
            "_model_name": "LayoutModel",
            "justify_items": null,
            "grid_row": null,
            "max_height": null,
            "align_content": null,
            "visibility": null,
            "align_self": null,
            "height": null,
            "min_height": null,
            "padding": null,
            "grid_auto_rows": null,
            "grid_gap": null,
            "max_width": null,
            "order": null,
            "_view_module_version": "1.2.0",
            "grid_template_areas": null,
            "object_position": null,
            "object_fit": null,
            "grid_auto_columns": null,
            "margin": null,
            "display": null,
            "left": null
          }
        },
        "316a282eee7e4c7f94874df885377991": {
          "model_module": "@jupyter-widgets/output",
          "model_name": "OutputModel",
          "state": {
            "_view_name": "OutputView",
            "msg_id": "",
            "_dom_classes": [],
            "_model_name": "OutputModel",
            "outputs": [
              {
                "output_type": "display_data",
                "metadata": {
                  "tags": []
                },
                "image/png": "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\n",
                "text/plain": "<PIL.Image.Image image mode=RGB size=101x128 at 0x7FEB6303FA10>"
              }
            ],
            "_view_module": "@jupyter-widgets/output",
            "_model_module_version": "1.0.0",
            "_view_count": null,
            "_view_module_version": "1.0.0",
            "layout": "IPY_MODEL_11821ba5f7254f93ba2eeb840e2eb56b",
            "_model_module": "@jupyter-widgets/output"
          }
        },
        "11821ba5f7254f93ba2eeb840e2eb56b": {
          "model_module": "@jupyter-widgets/base",
          "model_name": "LayoutModel",
          "state": {
            "_view_name": "LayoutView",
            "grid_template_rows": null,
            "right": null,
            "justify_content": null,
            "_view_module": "@jupyter-widgets/base",
            "overflow": null,
            "_model_module_version": "1.2.0",
            "_view_count": null,
            "flex_flow": null,
            "width": null,
            "min_width": null,
            "border": null,
            "align_items": null,
            "bottom": null,
            "_model_module": "@jupyter-widgets/base",
            "top": null,
            "grid_column": null,
            "overflow_y": null,
            "overflow_x": null,
            "grid_auto_flow": null,
            "grid_area": null,
            "grid_template_columns": null,
            "flex": null,
            "_model_name": "LayoutModel",
            "justify_items": null,
            "grid_row": null,
            "max_height": null,
            "align_content": null,
            "visibility": null,
            "align_self": null,
            "height": null,
            "min_height": null,
            "padding": null,
            "grid_auto_rows": null,
            "grid_gap": null,
            "max_width": null,
            "order": null,
            "_view_module_version": "1.2.0",
            "grid_template_areas": null,
            "object_position": null,
            "object_fit": null,
            "grid_auto_columns": null,
            "margin": null,
            "display": null,
            "left": null
          }
        },
        "87fbdba39b914f7d9cef5cbe20ce67f1": {
          "model_module": "@jupyter-widgets/controls",
          "model_name": "LabelModel",
          "state": {
            "_view_name": "LabelView",
            "style": "IPY_MODEL_59c7a06e3032481ab47efb94c43f55fe",
            "_dom_classes": [],
            "description": "",
            "_model_name": "LabelModel",
            "placeholder": "​",
            "_view_module": "@jupyter-widgets/controls",
            "_model_module_version": "1.5.0",
            "value": "Prediction: gamba; Probability: 0.8930",
            "_view_count": null,
            "_view_module_version": "1.5.0",
            "description_tooltip": null,
            "_model_module": "@jupyter-widgets/controls",
            "layout": "IPY_MODEL_f0a4adddf3b743ea8b32ec0f865817fa"
          }
        },
        "59c7a06e3032481ab47efb94c43f55fe": {
          "model_module": "@jupyter-widgets/controls",
          "model_name": "DescriptionStyleModel",
          "state": {
            "_view_name": "StyleView",
            "_model_name": "DescriptionStyleModel",
            "description_width": "",
            "_view_module": "@jupyter-widgets/base",
            "_model_module_version": "1.5.0",
            "_view_count": null,
            "_view_module_version": "1.2.0",
            "_model_module": "@jupyter-widgets/controls"
          }
        },
        "f0a4adddf3b743ea8b32ec0f865817fa": {
          "model_module": "@jupyter-widgets/base",
          "model_name": "LayoutModel",
          "state": {
            "_view_name": "LayoutView",
            "grid_template_rows": null,
            "right": null,
            "justify_content": null,
            "_view_module": "@jupyter-widgets/base",
            "overflow": null,
            "_model_module_version": "1.2.0",
            "_view_count": null,
            "flex_flow": null,
            "width": null,
            "min_width": null,
            "border": null,
            "align_items": null,
            "bottom": null,
            "_model_module": "@jupyter-widgets/base",
            "top": null,
            "grid_column": null,
            "overflow_y": null,
            "overflow_x": null,
            "grid_auto_flow": null,
            "grid_area": null,
            "grid_template_columns": null,
            "flex": null,
            "_model_name": "LayoutModel",
            "justify_items": null,
            "grid_row": null,
            "max_height": null,
            "align_content": null,
            "visibility": null,
            "align_self": null,
            "height": null,
            "min_height": null,
            "padding": null,
            "grid_auto_rows": null,
            "grid_gap": null,
            "max_width": null,
            "order": null,
            "_view_module_version": "1.2.0",
            "grid_template_areas": null,
            "object_position": null,
            "object_fit": null,
            "grid_auto_columns": null,
            "margin": null,
            "display": null,
            "left": null
          }
        },
        "a08aa8f025ae453fbc83031d0c603a1c": {
          "model_module": "@jupyter-widgets/controls",
          "model_name": "ButtonModel",
          "state": {
            "_view_name": "ButtonView",
            "style": "IPY_MODEL_1b04dab8d03243edb34477caf93ff5cc",
            "_dom_classes": [],
            "description": "Classify",
            "_model_name": "ButtonModel",
            "button_style": "",
            "_view_module": "@jupyter-widgets/controls",
            "_model_module_version": "1.5.0",
            "tooltip": "",
            "_view_count": null,
            "disabled": false,
            "_view_module_version": "1.5.0",
            "layout": "IPY_MODEL_9cf9642c99804d0788c44172439a69ad",
            "_model_module": "@jupyter-widgets/controls",
            "icon": ""
          }
        },
        "1b04dab8d03243edb34477caf93ff5cc": {
          "model_module": "@jupyter-widgets/controls",
          "model_name": "ButtonStyleModel",
          "state": {
            "_view_name": "StyleView",
            "_model_name": "ButtonStyleModel",
            "_view_module": "@jupyter-widgets/base",
            "_model_module_version": "1.5.0",
            "_view_count": null,
            "button_color": null,
            "font_weight": "",
            "_view_module_version": "1.2.0",
            "_model_module": "@jupyter-widgets/controls"
          }
        },
        "9cf9642c99804d0788c44172439a69ad": {
          "model_module": "@jupyter-widgets/base",
          "model_name": "LayoutModel",
          "state": {
            "_view_name": "LayoutView",
            "grid_template_rows": null,
            "right": null,
            "justify_content": null,
            "_view_module": "@jupyter-widgets/base",
            "overflow": null,
            "_model_module_version": "1.2.0",
            "_view_count": null,
            "flex_flow": null,
            "width": null,
            "min_width": null,
            "border": null,
            "align_items": null,
            "bottom": null,
            "_model_module": "@jupyter-widgets/base",
            "top": null,
            "grid_column": null,
            "overflow_y": null,
            "overflow_x": null,
            "grid_auto_flow": null,
            "grid_area": null,
            "grid_template_columns": null,
            "flex": null,
            "_model_name": "LayoutModel",
            "justify_items": null,
            "grid_row": null,
            "max_height": null,
            "align_content": null,
            "visibility": null,
            "align_self": null,
            "height": null,
            "min_height": null,
            "padding": null,
            "grid_auto_rows": null,
            "grid_gap": null,
            "max_width": null,
            "order": null,
            "_view_module_version": "1.2.0",
            "grid_template_areas": null,
            "object_position": null,
            "object_fit": null,
            "grid_auto_columns": null,
            "margin": null,
            "display": null,
            "left": null
          }
        },
        "89cbca2587714d3bb983490869f1126c": {
          "model_module": "@jupyter-widgets/controls",
          "model_name": "VBoxModel",
          "state": {
            "_view_name": "VBoxView",
            "_dom_classes": [],
            "_model_name": "VBoxModel",
            "_view_module": "@jupyter-widgets/controls",
            "_model_module_version": "1.5.0",
            "_view_count": null,
            "_view_module_version": "1.5.0",
            "box_style": "",
            "layout": "IPY_MODEL_196b48838b6945f4ad1b257b9bf8683f",
            "_model_module": "@jupyter-widgets/controls",
            "children": [
              "IPY_MODEL_2c5ea4364c804b37be49cc1f854ad692",
              "IPY_MODEL_24e3f19849474b49b8c4912c702e2752",
              "IPY_MODEL_a08aa8f025ae453fbc83031d0c603a1c",
              "IPY_MODEL_316a282eee7e4c7f94874df885377991",
              "IPY_MODEL_87fbdba39b914f7d9cef5cbe20ce67f1"
            ]
          }
        },
        "196b48838b6945f4ad1b257b9bf8683f": {
          "model_module": "@jupyter-widgets/base",
          "model_name": "LayoutModel",
          "state": {
            "_view_name": "LayoutView",
            "grid_template_rows": null,
            "right": null,
            "justify_content": null,
            "_view_module": "@jupyter-widgets/base",
            "overflow": null,
            "_model_module_version": "1.2.0",
            "_view_count": null,
            "flex_flow": null,
            "width": null,
            "min_width": null,
            "border": null,
            "align_items": null,
            "bottom": null,
            "_model_module": "@jupyter-widgets/base",
            "top": null,
            "grid_column": null,
            "overflow_y": null,
            "overflow_x": null,
            "grid_auto_flow": null,
            "grid_area": null,
            "grid_template_columns": null,
            "flex": null,
            "_model_name": "LayoutModel",
            "justify_items": null,
            "grid_row": null,
            "max_height": null,
            "align_content": null,
            "visibility": null,
            "align_self": null,
            "height": null,
            "min_height": null,
            "padding": null,
            "grid_auto_rows": null,
            "grid_gap": null,
            "max_width": null,
            "order": null,
            "_view_module_version": "1.2.0",
            "grid_template_areas": null,
            "object_position": null,
            "object_fit": null,
            "grid_auto_columns": null,
            "margin": null,
            "display": null,
            "left": null
          }
        },
        "2c5ea4364c804b37be49cc1f854ad692": {
          "model_module": "@jupyter-widgets/controls",
          "model_name": "LabelModel",
          "state": {
            "_view_name": "LabelView",
            "style": "IPY_MODEL_4d00579ea944486e85b814d127af061e",
            "_dom_classes": [],
            "description": "",
            "_model_name": "LabelModel",
            "placeholder": "​",
            "_view_module": "@jupyter-widgets/controls",
            "_model_module_version": "1.5.0",
            "value": "Select your Marsupial!",
            "_view_count": null,
            "_view_module_version": "1.5.0",
            "description_tooltip": null,
            "_model_module": "@jupyter-widgets/controls",
            "layout": "IPY_MODEL_0e865ecf21fb4ae2a2993ae3c1bd4967"
          }
        },
        "24e3f19849474b49b8c4912c702e2752": {
          "model_module": "@jupyter-widgets/controls",
          "model_name": "FileUploadModel",
          "state": {
            "_view_name": "FileUploadView",
            "_counter": 0,
            "style": "IPY_MODEL_f5118f58aefd43008dbd49c14a7cd9fe",
            "_dom_classes": [],
            "description": "Upload",
            "multiple": false,
            "_model_name": "FileUploadModel",
            "data": [],
            "button_style": "",
            "_view_module": "@jupyter-widgets/controls",
            "_model_module_version": "1.5.0",
            "accept": "",
            "_view_count": null,
            "disabled": false,
            "_view_module_version": "1.5.0",
            "error": "",
            "description_tooltip": null,
            "metadata": [],
            "_model_module": "@jupyter-widgets/controls",
            "layout": "IPY_MODEL_35dcf7f06cc64fd3b8e785e2828dff13",
            "icon": "upload"
          }
        },
        "4d00579ea944486e85b814d127af061e": {
          "model_module": "@jupyter-widgets/controls",
          "model_name": "DescriptionStyleModel",
          "state": {
            "_view_name": "StyleView",
            "_model_name": "DescriptionStyleModel",
            "description_width": "",
            "_view_module": "@jupyter-widgets/base",
            "_model_module_version": "1.5.0",
            "_view_count": null,
            "_view_module_version": "1.2.0",
            "_model_module": "@jupyter-widgets/controls"
          }
        },
        "0e865ecf21fb4ae2a2993ae3c1bd4967": {
          "model_module": "@jupyter-widgets/base",
          "model_name": "LayoutModel",
          "state": {
            "_view_name": "LayoutView",
            "grid_template_rows": null,
            "right": null,
            "justify_content": null,
            "_view_module": "@jupyter-widgets/base",
            "overflow": null,
            "_model_module_version": "1.2.0",
            "_view_count": null,
            "flex_flow": null,
            "width": null,
            "min_width": null,
            "border": null,
            "align_items": null,
            "bottom": null,
            "_model_module": "@jupyter-widgets/base",
            "top": null,
            "grid_column": null,
            "overflow_y": null,
            "overflow_x": null,
            "grid_auto_flow": null,
            "grid_area": null,
            "grid_template_columns": null,
            "flex": null,
            "_model_name": "LayoutModel",
            "justify_items": null,
            "grid_row": null,
            "max_height": null,
            "align_content": null,
            "visibility": null,
            "align_self": null,
            "height": null,
            "min_height": null,
            "padding": null,
            "grid_auto_rows": null,
            "grid_gap": null,
            "max_width": null,
            "order": null,
            "_view_module_version": "1.2.0",
            "grid_template_areas": null,
            "object_position": null,
            "object_fit": null,
            "grid_auto_columns": null,
            "margin": null,
            "display": null,
            "left": null
          }
        },
        "f5118f58aefd43008dbd49c14a7cd9fe": {
          "model_module": "@jupyter-widgets/controls",
          "model_name": "ButtonStyleModel",
          "state": {
            "_view_name": "StyleView",
            "_model_name": "ButtonStyleModel",
            "_view_module": "@jupyter-widgets/base",
            "_model_module_version": "1.5.0",
            "_view_count": null,
            "button_color": null,
            "font_weight": "",
            "_view_module_version": "1.2.0",
            "_model_module": "@jupyter-widgets/controls"
          }
        },
        "35dcf7f06cc64fd3b8e785e2828dff13": {
          "model_module": "@jupyter-widgets/base",
          "model_name": "LayoutModel",
          "state": {
            "_view_name": "LayoutView",
            "grid_template_rows": null,
            "right": null,
            "justify_content": null,
            "_view_module": "@jupyter-widgets/base",
            "overflow": null,
            "_model_module_version": "1.2.0",
            "_view_count": null,
            "flex_flow": null,
            "width": null,
            "min_width": null,
            "border": null,
            "align_items": null,
            "bottom": null,
            "_model_module": "@jupyter-widgets/base",
            "top": null,
            "grid_column": null,
            "overflow_y": null,
            "overflow_x": null,
            "grid_auto_flow": null,
            "grid_area": null,
            "grid_template_columns": null,
            "flex": null,
            "_model_name": "LayoutModel",
            "justify_items": null,
            "grid_row": null,
            "max_height": null,
            "align_content": null,
            "visibility": null,
            "align_self": null,
            "height": null,
            "min_height": null,
            "padding": null,
            "grid_auto_rows": null,
            "grid_gap": null,
            "max_width": null,
            "order": null,
            "_view_module_version": "1.2.0",
            "grid_template_areas": null,
            "object_position": null,
            "object_fit": null,
            "grid_auto_columns": null,
            "margin": null,
            "display": null,
            "left": null
          }
        }
      }
    }
  },
  "cells": [
    {
      "cell_type": "markdown",
      "metadata": {
        "id": "view-in-github",
        "colab_type": "text"
      },
      "source": [
        "<a href=\"https://colab.research.google.com/github/Viniciusfelp/Project_vfb2/blob/main/Marsupial_Classifier.ipynb\" target=\"_parent\"><img src=\"https://colab.research.google.com/assets/colab-badge.svg\" alt=\"Open In Colab\"/></a>"
      ]
    },
    {
      "cell_type": "code",
      "metadata": {
        "colab": {
          "base_uri": "https://localhost:8080/"
        },
        "id": "AJyLfKi2_yzz",
        "outputId": "eb19d84e-0fed-4952-c9cf-fd3c4a0d2c0d"
      },
      "source": [
        "!pip install voila\n",
        "!jupyter serverextension enable --sys-prefix voila"
      ],
      "execution_count": null,
      "outputs": [
        {
          "output_type": "stream",
          "text": [
            "Requirement already satisfied: voila in /usr/local/lib/python3.7/dist-packages (0.2.9)\n",
            "Requirement already satisfied: nbclient<0.6,>=0.4.0 in /usr/local/lib/python3.7/dist-packages (from voila) (0.5.3)\n",
            "Requirement already satisfied: jupyter-client<7,>=6.1.3 in /usr/local/lib/python3.7/dist-packages (from voila) (6.1.12)\n",
            "Requirement already satisfied: jupyter-server<2.0.0,>=0.3.0 in /usr/local/lib/python3.7/dist-packages (from voila) (1.6.4)\n",
            "Requirement already satisfied: nbconvert<7,>=6.0.0 in /usr/local/lib/python3.7/dist-packages (from voila) (6.0.7)\n",
            "Requirement already satisfied: async-generator in /usr/local/lib/python3.7/dist-packages (from nbclient<0.6,>=0.4.0->voila) (1.10)\n",
            "Requirement already satisfied: nest-asyncio in /usr/local/lib/python3.7/dist-packages (from nbclient<0.6,>=0.4.0->voila) (1.5.1)\n",
            "Requirement already satisfied: nbformat>=5.0 in /usr/local/lib/python3.7/dist-packages (from nbclient<0.6,>=0.4.0->voila) (5.1.3)\n",
            "Requirement already satisfied: traitlets>=4.2 in /usr/local/lib/python3.7/dist-packages (from nbclient<0.6,>=0.4.0->voila) (5.0.5)\n",
            "Requirement already satisfied: python-dateutil>=2.1 in /usr/local/lib/python3.7/dist-packages (from jupyter-client<7,>=6.1.3->voila) (2.8.1)\n",
            "Requirement already satisfied: jupyter-core>=4.6.0 in /usr/local/lib/python3.7/dist-packages (from jupyter-client<7,>=6.1.3->voila) (4.7.1)\n",
            "Requirement already satisfied: pyzmq>=13 in /usr/local/lib/python3.7/dist-packages (from jupyter-client<7,>=6.1.3->voila) (22.0.3)\n",
            "Requirement already satisfied: tornado>=4.1 in /usr/local/lib/python3.7/dist-packages (from jupyter-client<7,>=6.1.3->voila) (6.1)\n",
            "Requirement already satisfied: anyio<3,>=2.0.2 in /usr/local/lib/python3.7/dist-packages (from jupyter-server<2.0.0,>=0.3.0->voila) (2.2.0)\n",
            "Requirement already satisfied: argon2-cffi in /usr/local/lib/python3.7/dist-packages (from jupyter-server<2.0.0,>=0.3.0->voila) (20.1.0)\n",
            "Requirement already satisfied: ipython-genutils in /usr/local/lib/python3.7/dist-packages (from jupyter-server<2.0.0,>=0.3.0->voila) (0.2.0)\n",
            "Requirement already satisfied: Send2Trash in /usr/local/lib/python3.7/dist-packages (from jupyter-server<2.0.0,>=0.3.0->voila) (1.5.0)\n",
            "Requirement already satisfied: prometheus-client in /usr/local/lib/python3.7/dist-packages (from jupyter-server<2.0.0,>=0.3.0->voila) (0.10.1)\n",
            "Requirement already satisfied: jinja2 in /usr/local/lib/python3.7/dist-packages (from jupyter-server<2.0.0,>=0.3.0->voila) (2.11.3)\n",
            "Requirement already satisfied: jupyter-packaging~=0.9 in /usr/local/lib/python3.7/dist-packages (from jupyter-server<2.0.0,>=0.3.0->voila) (0.9.2)\n",
            "Requirement already satisfied: terminado>=0.8.3 in /usr/local/lib/python3.7/dist-packages (from jupyter-server<2.0.0,>=0.3.0->voila) (0.9.4)\n",
            "Requirement already satisfied: pygments>=2.4.1 in /usr/local/lib/python3.7/dist-packages (from nbconvert<7,>=6.0.0->voila) (2.6.1)\n",
            "Requirement already satisfied: entrypoints>=0.2.2 in /usr/local/lib/python3.7/dist-packages (from nbconvert<7,>=6.0.0->voila) (0.3)\n",
            "Requirement already satisfied: bleach in /usr/local/lib/python3.7/dist-packages (from nbconvert<7,>=6.0.0->voila) (3.3.0)\n",
            "Requirement already satisfied: mistune<2,>=0.8.1 in /usr/local/lib/python3.7/dist-packages (from nbconvert<7,>=6.0.0->voila) (0.8.4)\n",
            "Requirement already satisfied: jupyterlab-pygments in /usr/local/lib/python3.7/dist-packages (from nbconvert<7,>=6.0.0->voila) (0.1.2)\n",
            "Requirement already satisfied: defusedxml in /usr/local/lib/python3.7/dist-packages (from nbconvert<7,>=6.0.0->voila) (0.7.1)\n",
            "Requirement already satisfied: pandocfilters>=1.4.1 in /usr/local/lib/python3.7/dist-packages (from nbconvert<7,>=6.0.0->voila) (1.4.3)\n",
            "Requirement already satisfied: testpath in /usr/local/lib/python3.7/dist-packages (from nbconvert<7,>=6.0.0->voila) (0.4.4)\n",
            "Requirement already satisfied: jsonschema!=2.5.0,>=2.4 in /usr/local/lib/python3.7/dist-packages (from nbformat>=5.0->nbclient<0.6,>=0.4.0->voila) (2.6.0)\n",
            "Requirement already satisfied: six>=1.5 in /usr/local/lib/python3.7/dist-packages (from python-dateutil>=2.1->jupyter-client<7,>=6.1.3->voila) (1.15.0)\n",
            "Requirement already satisfied: sniffio>=1.1 in /usr/local/lib/python3.7/dist-packages (from anyio<3,>=2.0.2->jupyter-server<2.0.0,>=0.3.0->voila) (1.2.0)\n",
            "Requirement already satisfied: idna>=2.8 in /usr/local/lib/python3.7/dist-packages (from anyio<3,>=2.0.2->jupyter-server<2.0.0,>=0.3.0->voila) (2.10)\n",
            "Requirement already satisfied: typing-extensions; python_version < \"3.8\" in /usr/local/lib/python3.7/dist-packages (from anyio<3,>=2.0.2->jupyter-server<2.0.0,>=0.3.0->voila) (3.7.4.3)\n",
            "Requirement already satisfied: cffi>=1.0.0 in /usr/local/lib/python3.7/dist-packages (from argon2-cffi->jupyter-server<2.0.0,>=0.3.0->voila) (1.14.5)\n",
            "Requirement already satisfied: MarkupSafe>=0.23 in /usr/local/lib/python3.7/dist-packages (from jinja2->jupyter-server<2.0.0,>=0.3.0->voila) (1.1.1)\n",
            "Requirement already satisfied: packaging in /usr/local/lib/python3.7/dist-packages (from jupyter-packaging~=0.9->jupyter-server<2.0.0,>=0.3.0->voila) (20.9)\n",
            "Requirement already satisfied: setuptools>=46.4.0 in /usr/local/lib/python3.7/dist-packages (from jupyter-packaging~=0.9->jupyter-server<2.0.0,>=0.3.0->voila) (56.0.0)\n",
            "Requirement already satisfied: wheel in /usr/local/lib/python3.7/dist-packages (from jupyter-packaging~=0.9->jupyter-server<2.0.0,>=0.3.0->voila) (0.36.2)\n",
            "Requirement already satisfied: tomlkit in /usr/local/lib/python3.7/dist-packages (from jupyter-packaging~=0.9->jupyter-server<2.0.0,>=0.3.0->voila) (0.7.0)\n",
            "Requirement already satisfied: deprecation in /usr/local/lib/python3.7/dist-packages (from jupyter-packaging~=0.9->jupyter-server<2.0.0,>=0.3.0->voila) (2.1.0)\n",
            "Requirement already satisfied: ptyprocess; os_name != \"nt\" in /usr/local/lib/python3.7/dist-packages (from terminado>=0.8.3->jupyter-server<2.0.0,>=0.3.0->voila) (0.7.0)\n",
            "Requirement already satisfied: webencodings in /usr/local/lib/python3.7/dist-packages (from bleach->nbconvert<7,>=6.0.0->voila) (0.5.1)\n",
            "Requirement already satisfied: pycparser in /usr/local/lib/python3.7/dist-packages (from cffi>=1.0.0->argon2-cffi->jupyter-server<2.0.0,>=0.3.0->voila) (2.20)\n",
            "Requirement already satisfied: pyparsing>=2.0.2 in /usr/local/lib/python3.7/dist-packages (from packaging->jupyter-packaging~=0.9->jupyter-server<2.0.0,>=0.3.0->voila) (2.4.7)\n",
            "Enabling: voila\n",
            "- Writing config: /usr/etc/jupyter\n",
            "    - Validating...\n",
            "Error loading server extension voila\n",
            "     \u001b[31m X\u001b[0m is voila importable?\n"
          ],
          "name": "stdout"
        }
      ]
    },
    {
      "cell_type": "code",
      "metadata": {
        "colab": {
          "base_uri": "https://localhost:8080/"
        },
        "id": "RUqnKLSOOI7j",
        "outputId": "ff7dcc48-22dd-47a7-cf35-332950d126fa"
      },
      "source": [
        "!pip install -Uqq fastbook\n",
        "import fastbook\n",
        "fastbook.setup_book()"
      ],
      "execution_count": 2,
      "outputs": [
        {
          "output_type": "stream",
          "text": [
            "\u001b[K     |████████████████████████████████| 727kB 8.6MB/s \n",
            "\u001b[K     |████████████████████████████████| 51kB 5.0MB/s \n",
            "\u001b[K     |████████████████████████████████| 194kB 16.8MB/s \n",
            "\u001b[K     |████████████████████████████████| 1.2MB 28.7MB/s \n",
            "\u001b[K     |████████████████████████████████| 61kB 6.0MB/s \n",
            "\u001b[K     |████████████████████████████████| 51kB 5.5MB/s \n",
            "\u001b[K     |████████████████████████████████| 460kB 39.7MB/s \n",
            "\u001b[K     |████████████████████████████████| 776.8MB 20kB/s \n",
            "\u001b[K     |████████████████████████████████| 12.8MB 41.0MB/s \n",
            "\u001b[31mERROR: voila 0.2.9 has requirement nbconvert<7,>=6.0.0, but you'll have nbconvert 5.6.1 which is incompatible.\u001b[0m\n",
            "\u001b[31mERROR: torchtext 0.9.1 has requirement torch==1.8.1, but you'll have torch 1.7.1 which is incompatible.\u001b[0m\n",
            "\u001b[31mERROR: google-colab 1.0.0 has requirement tornado~=5.1.0; python_version >= \"3.0\", but you'll have tornado 6.1 which is incompatible.\u001b[0m\n",
            "\u001b[?25hMounted at /content/gdrive\n"
          ],
          "name": "stdout"
        }
      ]
    },
    {
      "cell_type": "code",
      "metadata": {
        "id": "MiWHp-x5POgS"
      },
      "source": [
        "from fastbook import *\n",
        "from fastai.vision.widgets import *"
      ],
      "execution_count": 4,
      "outputs": []
    },
    {
      "cell_type": "code",
      "metadata": {
        "id": "QA22J23vzA8h"
      },
      "source": [
        "path = gdrive\n",
        "learn_inf = load_learner(path/'export.pkl')"
      ],
      "execution_count": 7,
      "outputs": []
    },
    {
      "cell_type": "code",
      "metadata": {
        "id": "EucSP2Xq4g-y",
        "colab": {
          "base_uri": "https://localhost:8080/"
        },
        "outputId": "538f4545-5445-4a04-b1aa-bef42391fb3a"
      },
      "source": [
        "learn_inf.dls.vocab"
      ],
      "execution_count": 8,
      "outputs": [
        {
          "output_type": "execute_result",
          "data": {
            "text/plain": [
              "['canguru', 'coala', 'gamba']"
            ]
          },
          "metadata": {
            "tags": []
          },
          "execution_count": 8
        }
      ]
    },
    {
      "cell_type": "markdown",
      "metadata": {
        "id": "1whSyS9hB_fk"
      },
      "source": [
        "##"
      ]
    },
    {
      "cell_type": "code",
      "metadata": {
        "id": "BawQNnJxBVTV",
        "colab": {
          "base_uri": "https://localhost:8080/",
          "height": 49,
          "referenced_widgets": [
            "c75b2347f46f4126be1a259583c514ab",
            "38d90b0915024a8aa6ef3aefaa9a450d",
            "c4fe0406480741608dfbabccc49c8308"
          ]
        },
        "outputId": "8d9e1d90-932a-4eff-b66d-1e194062fed5"
      },
      "source": [
        "btn_upload = widgets.FileUpload()\n",
        "btn_upload"
      ],
      "execution_count": 9,
      "outputs": [
        {
          "output_type": "display_data",
          "data": {
            "application/vnd.jupyter.widget-view+json": {
              "model_id": "c75b2347f46f4126be1a259583c514ab",
              "version_minor": 0,
              "version_major": 2
            },
            "text/plain": [
              "FileUpload(value={}, description='Upload')"
            ]
          },
          "metadata": {
            "tags": []
          }
        }
      ]
    },
    {
      "cell_type": "code",
      "metadata": {
        "id": "M3ySIGX9BVNi"
      },
      "source": [
        "img = PILImage.create(btn_upload.data[-1])"
      ],
      "execution_count": 10,
      "outputs": []
    },
    {
      "cell_type": "code",
      "metadata": {
        "id": "JtgLIqhNBVFh",
        "colab": {
          "base_uri": "https://localhost:8080/",
          "height": 145,
          "referenced_widgets": [
            "316a282eee7e4c7f94874df885377991",
            "11821ba5f7254f93ba2eeb840e2eb56b"
          ]
        },
        "outputId": "a09d6ae3-7143-48e9-b3e4-c639bf648cad"
      },
      "source": [
        "out_pl = widgets.Output()\n",
        "out_pl.clear_output()\n",
        "with out_pl: display(img.to_thumb(128,128))\n",
        "out_pl"
      ],
      "execution_count": 11,
      "outputs": [
        {
          "output_type": "display_data",
          "data": {
            "application/vnd.jupyter.widget-view+json": {
              "model_id": "316a282eee7e4c7f94874df885377991",
              "version_minor": 0,
              "version_major": 2
            },
            "text/plain": [
              "Output()"
            ]
          },
          "metadata": {
            "tags": []
          }
        }
      ]
    },
    {
      "cell_type": "code",
      "metadata": {
        "id": "r7czSV8KBU7o",
        "colab": {
          "base_uri": "https://localhost:8080/",
          "height": 17
        },
        "outputId": "c324db81-4125-4b8b-c114-0f4cdbd8dfe2"
      },
      "source": [
        "pred,pred_idx,probs = learn_inf.predict(img)"
      ],
      "execution_count": 12,
      "outputs": [
        {
          "output_type": "display_data",
          "data": {
            "text/html": [
              ""
            ],
            "text/plain": [
              "<IPython.core.display.HTML object>"
            ]
          },
          "metadata": {
            "tags": []
          }
        }
      ]
    },
    {
      "cell_type": "code",
      "metadata": {
        "id": "8L6FegSGBUww",
        "colab": {
          "base_uri": "https://localhost:8080/",
          "height": 49,
          "referenced_widgets": [
            "87fbdba39b914f7d9cef5cbe20ce67f1",
            "59c7a06e3032481ab47efb94c43f55fe",
            "f0a4adddf3b743ea8b32ec0f865817fa"
          ]
        },
        "outputId": "841145ee-e823-471b-92b1-3dee95d3c93b"
      },
      "source": [
        "lbl_pred = widgets.Label()\n",
        "lbl_pred.value = f'Prediction: {pred}; Probability: {probs[pred_idx]:.04f}'\n",
        "lbl_pred"
      ],
      "execution_count": 13,
      "outputs": [
        {
          "output_type": "display_data",
          "data": {
            "application/vnd.jupyter.widget-view+json": {
              "model_id": "87fbdba39b914f7d9cef5cbe20ce67f1",
              "version_minor": 0,
              "version_major": 2
            },
            "text/plain": [
              "Label(value='Prediction: gamba; Probability: 0.8930')"
            ]
          },
          "metadata": {
            "tags": []
          }
        }
      ]
    },
    {
      "cell_type": "code",
      "metadata": {
        "id": "ZZChbaU0COh0",
        "colab": {
          "base_uri": "https://localhost:8080/",
          "height": 49,
          "referenced_widgets": [
            "a08aa8f025ae453fbc83031d0c603a1c",
            "1b04dab8d03243edb34477caf93ff5cc",
            "9cf9642c99804d0788c44172439a69ad"
          ]
        },
        "outputId": "6932df65-df14-409d-f443-c780000f9ddd"
      },
      "source": [
        "btn_run = widgets.Button(description='Classify')\n",
        "btn_run"
      ],
      "execution_count": 14,
      "outputs": [
        {
          "output_type": "display_data",
          "data": {
            "application/vnd.jupyter.widget-view+json": {
              "model_id": "a08aa8f025ae453fbc83031d0c603a1c",
              "version_minor": 0,
              "version_major": 2
            },
            "text/plain": [
              "Button(description='Classify', style=ButtonStyle())"
            ]
          },
          "metadata": {
            "tags": []
          }
        }
      ]
    },
    {
      "cell_type": "code",
      "metadata": {
        "id": "TJjhsZi0CObA"
      },
      "source": [
        "def on_click_classify(change):\n",
        "    img = PILImage.create(btn_upload.data[-1])\n",
        "    out_pl.clear_output()\n",
        "    with out_pl: display(img.to_thumb(128,128))\n",
        "    pred,pred_idx,probs = learn_inf.predict(img)\n",
        "    lbl_pred.value = f'Prediction: {pred}; Probability: {probs[pred_idx]:.04f}'\n",
        "\n",
        "btn_run.on_click(on_click_classify)"
      ],
      "execution_count": 15,
      "outputs": []
    },
    {
      "cell_type": "code",
      "metadata": {
        "id": "nzJCa0O4CORK"
      },
      "source": [
        "btn_upload = widgets.FileUpload()"
      ],
      "execution_count": 16,
      "outputs": []
    },
    {
      "cell_type": "code",
      "metadata": {
        "id": "-wKrXr7VCXPv",
        "colab": {
          "base_uri": "https://localhost:8080/",
          "height": 273,
          "referenced_widgets": [
            "89cbca2587714d3bb983490869f1126c",
            "196b48838b6945f4ad1b257b9bf8683f",
            "2c5ea4364c804b37be49cc1f854ad692",
            "24e3f19849474b49b8c4912c702e2752",
            "a08aa8f025ae453fbc83031d0c603a1c",
            "316a282eee7e4c7f94874df885377991",
            "87fbdba39b914f7d9cef5cbe20ce67f1",
            "4d00579ea944486e85b814d127af061e",
            "0e865ecf21fb4ae2a2993ae3c1bd4967",
            "f5118f58aefd43008dbd49c14a7cd9fe",
            "35dcf7f06cc64fd3b8e785e2828dff13",
            "1b04dab8d03243edb34477caf93ff5cc",
            "9cf9642c99804d0788c44172439a69ad",
            "59c7a06e3032481ab47efb94c43f55fe",
            "f0a4adddf3b743ea8b32ec0f865817fa",
            "11821ba5f7254f93ba2eeb840e2eb56b"
          ]
        },
        "outputId": "ea78a1d7-8c3b-42b6-ff20-623d04e041ff"
      },
      "source": [
        "VBox([widgets.Label('Select your Marsupial!'), \n",
        "      btn_upload, btn_run, out_pl, lbl_pred])"
      ],
      "execution_count": 17,
      "outputs": [
        {
          "output_type": "display_data",
          "data": {
            "application/vnd.jupyter.widget-view+json": {
              "model_id": "89cbca2587714d3bb983490869f1126c",
              "version_minor": 0,
              "version_major": 2
            },
            "text/plain": [
              "VBox(children=(Label(value='Select your Marsupial!'), FileUpload(value={}, description='Upload'), Button(descr…"
            ]
          },
          "metadata": {
            "tags": []
          }
        }
      ]
    }
  ]
}